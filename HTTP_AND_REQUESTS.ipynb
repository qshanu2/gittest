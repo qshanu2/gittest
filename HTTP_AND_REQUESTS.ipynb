{
 "cells": [
  {
   "cell_type": "code",
   "execution_count": 9,
   "id": "bb057277-d960-4fdc-8053-087a15d18db1",
   "metadata": {},
   "outputs": [],
   "source": [
    "import requests"
   ]
  },
  {
   "cell_type": "code",
   "execution_count": 10,
   "id": "37d24a4e-1b56-4d7e-8392-68459f85e87e",
   "metadata": {},
   "outputs": [],
   "source": [
    "import os\n",
    "from PIL import Image\n",
    "from IPython.display import IFrame"
   ]
  },
  {
   "cell_type": "code",
   "execution_count": 14,
   "id": "7d7ed793-6fe3-4063-bbaa-26a78dfab3bc",
   "metadata": {},
   "outputs": [],
   "source": [
    "url='https://www.ibm.com/'\n",
    "r=requests.get(url)"
   ]
  },
  {
   "cell_type": "code",
   "execution_count": 15,
   "id": "06e225aa-4b4c-4dd2-87ed-6334fd5f2618",
   "metadata": {},
   "outputs": [
    {
     "data": {
      "text/plain": [
       "200"
      ]
     },
     "execution_count": 15,
     "metadata": {},
     "output_type": "execute_result"
    }
   ],
   "source": [
    "r.status_code"
   ]
  },
  {
   "cell_type": "code",
   "execution_count": 16,
   "id": "012efc8c-ee33-4346-9afa-b1be8cf4cc47",
   "metadata": {},
   "outputs": [
    {
     "name": "stdout",
     "output_type": "stream",
     "text": [
      "{'User-Agent': 'python-requests/2.28.1', 'Accept-Encoding': 'gzip, deflate, br', 'Accept': '*/*', 'Connection': 'keep-alive', 'Cookie': '_abck=8BFE0FD4B4D570227E204F5F12734259~-1~YAAQk2rcFwHpnhiFAQAAhYCZSAm3vSTec05ShHaGuoqJvVXZIhrZyXYDEuZbN6Y6VBoqc+s6Cqc9YDW5+ikmHjb3l8ncETgZyzThRSA1K5FjHcrZ31mcpiUvHPcP4qKkHb2bQKx7Q4kGjDmOtLTAs2KgorUOCvAIh8u/qXU9bJB/6PKVUttOkgVczFH2e8OR+KhRpRTZ7xfE8oIt3utHBzwhAC991Q8vdMwmLU0BOlBpIko/UTTGRtXYthtjeCLnYtTQbywCg8bsVD/YWgQXfPeQGd5d4PU7f6EJi8feSOCWHL83N9GemsUsRsTSxtSedODKwqf3O8gSD7cL6xrfu+daJFQcAditneiFCAcP4PXcfduZfjs=~-1~-1~-1; bm_sz=A211CAF5EA6A0A88F277C2E5428FFCB4~YAAQk2rcFwLpnhiFAQAAhYCZSBJVx9mKnEcC0PFuzeuctWNv7bXFaLWIUStDJJ5cmNE7xPb+8nFaS9nHo0MXHVqf65NgpsOAy7Qd0YycZ3/CFkwLAzffJc3QvNn8U1c5h0fvQevI7bqlTTIwPvOKYOzEPrDEk/cSVSJ7uppe3tJ8mm7p16MsVLxi+p4YbVKcrnkMpyvZtpP+j5Pvsej7n/c3LjpNjDsCVMQyO1yN4rJTbIQ2Lc9nYVj2dWQL/6KfA0IjpXAMPzsnnW9he3cAs0sW8S49JrfLXIz5uQemJ8g=~3621426~4601912'}\n"
     ]
    }
   ],
   "source": [
    "print(r.request.headers)"
   ]
  },
  {
   "cell_type": "code",
   "execution_count": 17,
   "id": "5993a605-a95f-485c-8e1f-d5723cb85c7b",
   "metadata": {},
   "outputs": [
    {
     "name": "stdout",
     "output_type": "stream",
     "text": [
      "request body: None\n"
     ]
    }
   ],
   "source": [
    "print(\"request body:\", r.request.body)"
   ]
  },
  {
   "cell_type": "code",
   "execution_count": 20,
   "id": "5ca2cb37-7721-4541-9ce2-b88267b84d53",
   "metadata": {},
   "outputs": [
    {
     "name": "stdout",
     "output_type": "stream",
     "text": [
      "{'Server': 'Apache', 'Last-Modified': 'Tue, 20 Dec 2022 21:02:25 GMT', 'ETag': '\"125ee-5f048c0b7dc8b-gzip\"', 'Accept-Ranges': 'bytes', 'Content-Type': 'text/html', 'Cache-Control': 'max-age=3600', 'Expires': 'Sun, 25 Dec 2022 10:24:57 GMT', 'X-Akamai-Transformed': '9 16328 0 pmb=mTOE,2', 'Content-Encoding': 'gzip', 'Date': 'Sun, 25 Dec 2022 09:24:57 GMT', 'Content-Length': '16499', 'Connection': 'keep-alive', 'Vary': 'Accept-Encoding', 'x-content-type-options': 'nosniff', 'X-XSS-Protection': '1; mode=block', 'Content-Security-Policy': 'upgrade-insecure-requests', 'Strict-Transport-Security': 'max-age=31536000'}\n"
     ]
    }
   ],
   "source": [
    "header=r.headers\n",
    "print(r.headers)"
   ]
  },
  {
   "cell_type": "code",
   "execution_count": 21,
   "id": "2b4b0bd6-679d-480c-8df1-1f4221af9cef",
   "metadata": {},
   "outputs": [
    {
     "data": {
      "text/plain": [
       "'Sun, 25 Dec 2022 09:24:57 GMT'"
      ]
     },
     "execution_count": 21,
     "metadata": {},
     "output_type": "execute_result"
    }
   ],
   "source": [
    "header['date']"
   ]
  },
  {
   "cell_type": "code",
   "execution_count": 22,
   "id": "0006c898-891f-4055-92c2-b5d7d8f16fc1",
   "metadata": {},
   "outputs": [
    {
     "data": {
      "text/plain": [
       "'text/html'"
      ]
     },
     "execution_count": 22,
     "metadata": {},
     "output_type": "execute_result"
    }
   ],
   "source": [
    "header['Content-type']"
   ]
  },
  {
   "cell_type": "code",
   "execution_count": 23,
   "id": "c1e935b1-c68e-4383-905f-b75015d0da13",
   "metadata": {},
   "outputs": [
    {
     "data": {
      "text/plain": [
       "'ISO-8859-1'"
      ]
     },
     "execution_count": 23,
     "metadata": {},
     "output_type": "execute_result"
    }
   ],
   "source": [
    "r.encoding"
   ]
  },
  {
   "cell_type": "code",
   "execution_count": 24,
   "id": "ad46c5a1-5e45-4e71-a625-7048c14177e7",
   "metadata": {},
   "outputs": [
    {
     "data": {
      "text/plain": [
       "'<!DOCTYPE html><html lang=\"en-US\"><head><meta name=\"viewport\" content=\"width=device-width\"/><meta ch'"
      ]
     },
     "execution_count": 24,
     "metadata": {},
     "output_type": "execute_result"
    }
   ],
   "source": [
    "r.text[0:100]"
   ]
  },
  {
   "cell_type": "code",
   "execution_count": 26,
   "id": "5ace656b-171b-457c-af51-f7259435d900",
   "metadata": {},
   "outputs": [
    {
     "name": "stdout",
     "output_type": "stream",
     "text": [
      "{'Server': 'Apache', 'Last-Modified': 'Tue, 20 Dec 2022 21:02:25 GMT', 'ETag': '\"125ee-5f048c0b7dc8b-gzip\"', 'Accept-Ranges': 'bytes', 'Content-Type': 'text/html', 'Cache-Control': 'max-age=3600', 'Expires': 'Sun, 25 Dec 2022 10:34:21 GMT', 'X-Akamai-Transformed': '9 16328 0 pmb=mTOE,2', 'Content-Encoding': 'gzip', 'Date': 'Sun, 25 Dec 2022 09:34:21 GMT', 'Content-Length': '16499', 'Connection': 'keep-alive', 'Vary': 'Accept-Encoding', 'x-content-type-options': 'nosniff', 'X-XSS-Protection': '1; mode=block', 'Content-Security-Policy': 'upgrade-insecure-requests', 'Strict-Transport-Security': 'max-age=31536000'}\n"
     ]
    }
   ],
   "source": [
    "r=requests.get(url)\n",
    "print(r.headers)"
   ]
  },
  {
   "cell_type": "code",
   "execution_count": 27,
   "id": "92459b1e-3c74-4931-a082-65e7f4bf07a6",
   "metadata": {},
   "outputs": [
    {
     "data": {
      "text/plain": [
       "'/resources/labs/image.png'"
      ]
     },
     "execution_count": 27,
     "metadata": {},
     "output_type": "execute_result"
    }
   ],
   "source": [
    "path=os.path.join(os.getcwd(),'image.png')\n",
    "path"
   ]
  },
  {
   "cell_type": "code",
   "execution_count": 31,
   "id": "97dfa6f3-2674-4f69-9815-1d71007c4446",
   "metadata": {},
   "outputs": [
    {
     "ename": "TypeError",
     "evalue": "write() argument must be str, not bytes",
     "output_type": "error",
     "traceback": [
      "\u001b[0;31m---------------------------------------------------------------------------\u001b[0m",
      "\u001b[0;31mTypeError\u001b[0m                                 Traceback (most recent call last)",
      "\u001b[0;32m/tmp/ipykernel_393/2791594652.py\u001b[0m in \u001b[0;36m<module>\u001b[0;34m\u001b[0m\n\u001b[1;32m      1\u001b[0m \u001b[0;32mwith\u001b[0m \u001b[0mopen\u001b[0m\u001b[0;34m(\u001b[0m\u001b[0mpath\u001b[0m\u001b[0;34m,\u001b[0m\u001b[0;34m'r'\u001b[0m\u001b[0;34m)\u001b[0m \u001b[0;32mas\u001b[0m \u001b[0mf\u001b[0m\u001b[0;34m:\u001b[0m\u001b[0;34m\u001b[0m\u001b[0;34m\u001b[0m\u001b[0m\n\u001b[0;32m----> 2\u001b[0;31m     \u001b[0mf\u001b[0m\u001b[0;34m.\u001b[0m\u001b[0mwrite\u001b[0m\u001b[0;34m(\u001b[0m\u001b[0mr\u001b[0m\u001b[0;34m.\u001b[0m\u001b[0mcontent\u001b[0m\u001b[0;34m)\u001b[0m\u001b[0;34m\u001b[0m\u001b[0;34m\u001b[0m\u001b[0m\n\u001b[0m",
      "\u001b[0;31mTypeError\u001b[0m: write() argument must be str, not bytes"
     ]
    }
   ],
   "source": []
  },
  {
   "cell_type": "code",
   "execution_count": null,
   "id": "4195dafd-2bfd-40ba-9e16-958d93f084f0",
   "metadata": {},
   "outputs": [],
   "source": []
  }
 ],
 "metadata": {
  "kernelspec": {
   "display_name": "Python",
   "language": "python",
   "name": "conda-env-python-py"
  },
  "language_info": {
   "codemirror_mode": {
    "name": "ipython",
    "version": 3
   },
   "file_extension": ".py",
   "mimetype": "text/x-python",
   "name": "python",
   "nbconvert_exporter": "python",
   "pygments_lexer": "ipython3",
   "version": "3.7.12"
  }
 },
 "nbformat": 4,
 "nbformat_minor": 5
}
